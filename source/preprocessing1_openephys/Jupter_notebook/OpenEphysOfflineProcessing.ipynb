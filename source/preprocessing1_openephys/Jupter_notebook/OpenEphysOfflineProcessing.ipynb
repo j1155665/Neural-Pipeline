{
 "cells": [
  {
   "cell_type": "markdown",
   "id": "3df72407",
   "metadata": {},
   "source": [
    "### initialize"
   ]
  },
  {
   "cell_type": "code",
   "execution_count": null,
   "id": "5b0fbc34",
   "metadata": {},
   "outputs": [],
   "source": [
    "# Run this no matter which cells you want to run\n",
    "\n",
    "import sys\n",
    "sys.path.append(r'D:\\Neural-Pipeline\\source')\n",
    "\n",
    "directory = r\"D:\\Neural-Pipeline\\data\"\n",
    "# directory = \"\\\\172.30.3.33\\homes\\fetschlab\\data\"\n",
    "subject = \"zarya\"\n",
    "date = \"20250417\"\n",
    "\n"
   ]
  },
  {
   "cell_type": "markdown",
   "id": "4f3e2bea",
   "metadata": {},
   "source": [
    "## 1. Merge recording file\n",
    "> The Openephys file struct = \"YYYY-MM-DD_HH-MM-SS\\Record Node 101\\experiment?\\recording?\" \n",
    "\n",
    "(sometimes the TTL signal is stored as NI-DAQmx-104.PXIe-6341 or NI-DAQmx-103.PXIe-6341)"
   ]
  },
  {
   "cell_type": "code",
   "execution_count": null,
   "id": "cc111b9a",
   "metadata": {},
   "outputs": [],
   "source": [
    "from preprocessing1_openephys.DataProcessor import MergeRecordingFile\n",
    "\n",
    "processor = MergeRecordingFile(directory, subject, date)\n",
    "# processor.extract_channel_positions()\n",
    "# processor.merge_ap_data( num_channels=384)\n",
    "processor.merge_ttl_data()\n",
    "# processor.merge_eye_data()\n",
    "# processor.check_electrode_consistency()  ## check if the electrode configuration are consistent"
   ]
  },
  {
   "cell_type": "markdown",
   "id": "a48c9880",
   "metadata": {},
   "source": [
    "## 2. Create event struct (after kilosort)\n",
    "> Create event struct for .mat file"
   ]
  },
  {
   "cell_type": "code",
   "execution_count": null,
   "id": "403d0b7a",
   "metadata": {},
   "outputs": [],
   "source": [
    "from preprocessing1_openephys.DataProcessor import CreateEventStruct\n",
    "\n",
    "event_processor = CreateEventStruct(directory, subject, date)\n",
    "event_processor.filter_events()\n",
    "event_processor.load_info_data()\n",
    "event_processor.process_trials()\n",
    "event_processor.save_to_mat()"
   ]
  },
  {
   "cell_type": "markdown",
   "id": "c8132fe3",
   "metadata": {},
   "source": [
    "## 3. Create unit struct (after kilosort)\n",
    "> Create unit struct for .mat file"
   ]
  },
  {
   "cell_type": "code",
   "execution_count": null,
   "id": "b300221c",
   "metadata": {},
   "outputs": [],
   "source": [
    "from preprocessing1_openephys.DataProcessor import CreateUnitStruct\n",
    "\n",
    "kilo = \"kilosort4_phy\"\n",
    "unit_processor = CreateUnitStruct(directory, subject, date, kilo)\n",
    "unit_processor.build_unit_structure()\n",
    "unit_processor.save_units_to_mat()"
   ]
  },
  {
   "cell_type": "markdown",
   "id": "49360cf6",
   "metadata": {},
   "source": [
    "## 4. Create eyeXY struct\n",
    "> no pupil data yet\n"
   ]
  },
  {
   "cell_type": "code",
   "execution_count": null,
   "id": "fc2fa32c",
   "metadata": {},
   "outputs": [],
   "source": [
    "from preprocessing1_openephys.DataProcessor import CreateEyeXYStruct\n",
    "\n",
    "unit_processor = CreateEyeXYStruct(directory, subject, date)\n",
    "unit_processor.build_eyeXY_structure()\n",
    "unit_processor.save_eyeXY_to_mat()"
   ]
  }
 ],
 "metadata": {
  "kernelspec": {
   "display_name": ".venv (3.10.2)",
   "language": "python",
   "name": "python3"
  },
  "language_info": {
   "codemirror_mode": {
    "name": "ipython",
    "version": 3
   },
   "file_extension": ".py",
   "mimetype": "text/x-python",
   "name": "python",
   "nbconvert_exporter": "python",
   "pygments_lexer": "ipython3",
   "version": "3.10.2"
  }
 },
 "nbformat": 4,
 "nbformat_minor": 5
}
